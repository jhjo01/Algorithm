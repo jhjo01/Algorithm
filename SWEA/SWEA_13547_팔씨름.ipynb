{
  "nbformat": 4,
  "nbformat_minor": 0,
  "metadata": {
    "colab": {
      "name": "D3_13547.ipynb",
      "provenance": [],
      "collapsed_sections": [],
      "authorship_tag": "ABX9TyNTqmAnckl2udfdRgwIaIyt",
      "include_colab_link": true
    },
    "kernelspec": {
      "name": "python3",
      "display_name": "Python 3"
    },
    "language_info": {
      "name": "python"
    }
  },
  "cells": [
    {
      "cell_type": "markdown",
      "metadata": {
        "id": "view-in-github",
        "colab_type": "text"
      },
      "source": [
        "<a href=\"https://colab.research.google.com/github/jhjo01/Algorithm/blob/main/SWEA/D3/D3_13547.ipynb\" target=\"_parent\"><img src=\"https://colab.research.google.com/assets/colab-badge.svg\" alt=\"Open In Colab\"/></a>"
      ]
    },
    {
      "cell_type": "code",
      "execution_count": null,
      "metadata": {
        "id": "3JipR7odvUrt"
      },
      "outputs": [],
      "source": [
        "def winner(a):\n",
        "    count = 0\n",
        "    for i in range(len(a)):\n",
        "        if a[i] == 'x':\n",
        "            count = count + 1\n",
        "    return count\n",
        "T = int(input())\n",
        "# 여러개의 테스트 케이스가 주어지므로, 각각을 처리합니다.\n",
        "for test_case in range(1, T + 1):\n",
        "    a = input()\n",
        "    count = winner(a)\n",
        "\n",
        "    if count <= 7:\n",
        "        print('#{}'.format(test_case), 'YES')\n",
        "    else:\n",
        "        print('#{}'.format(test_case), 'NO')\n"
      ]
    }
  ]
}