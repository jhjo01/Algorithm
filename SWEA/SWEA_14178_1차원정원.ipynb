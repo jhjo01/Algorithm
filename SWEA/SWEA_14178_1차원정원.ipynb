{
  "nbformat": 4,
  "nbformat_minor": 0,
  "metadata": {
    "colab": {
      "name": "D3_14178.ipynb",
      "provenance": [],
      "collapsed_sections": [],
      "authorship_tag": "ABX9TyPsS5BvmbKF32mxQBZlmhR0",
      "include_colab_link": true
    },
    "kernelspec": {
      "name": "python3",
      "display_name": "Python 3"
    },
    "language_info": {
      "name": "python"
    }
  },
  "cells": [
    {
      "cell_type": "markdown",
      "metadata": {
        "id": "view-in-github",
        "colab_type": "text"
      },
      "source": [
        "<a href=\"https://colab.research.google.com/github/jhjo01/Algorithm/blob/main/SWEA/D3/D3_14178.ipynb\" target=\"_parent\"><img src=\"https://colab.research.google.com/assets/colab-badge.svg\" alt=\"Open In Colab\"/></a>"
      ]
    },
    {
      "cell_type": "code",
      "execution_count": null,
      "metadata": {
        "colab": {
          "base_uri": "https://localhost:8080/"
        },
        "id": "-WFXrn1zevF0",
        "outputId": "ea674573-515e-42d3-bb28-dce46226982a"
      },
      "outputs": [
        {
          "output_type": "stream",
          "name": "stdout",
          "text": [
            "3\n",
            "5 1\n",
            "#1 2\n",
            "5 2\n",
            "#2 1\n",
            "100 3\n",
            "#3 15\n"
          ]
        }
      ],
      "source": [
        "T = int(input())\n",
        "# 여러개의 테스트 케이스가 주어지므로, 각각을 처리합니다.\n",
        "for test_case in range(1, T + 1):\n",
        "    # ///////////////////////////////////////////////////////////////////////////////////\n",
        "    b, c = map(float, input().split())   \n",
        "    water = c * 2 + 1\n",
        "    times = b / water\n",
        "    if times % 1 == 0:\n",
        "        print(\"#{}\".format(test_case), int(times)) \n",
        "    else:\n",
        "        print(\"#{}\".format(test_case), int(times + 1))\n",
        "        "
      ]
    }
  ]
}